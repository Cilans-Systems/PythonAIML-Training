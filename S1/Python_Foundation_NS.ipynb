{
  "nbformat": 4,
  "nbformat_minor": 5,
  "metadata": {
    "colab": {
      "name": "Python_Foundation_NS.ipynb",
      "provenance": [],
      "include_colab_link": true
    },
    "kernelspec": {
      "display_name": "Python 3",
      "language": "python",
      "name": "python3"
    },
    "language_info": {
      "codemirror_mode": {
        "name": "ipython",
        "version": 3
      },
      "file_extension": ".py",
      "mimetype": "text/x-python",
      "name": "python",
      "nbconvert_exporter": "python",
      "pygments_lexer": "ipython3",
      "version": "3.8.3"
    }
  },
  "cells": [
    {
      "cell_type": "markdown",
      "metadata": {
        "id": "view-in-github",
        "colab_type": "text"
      },
      "source": [
        "<a href=\"https://colab.research.google.com/github/Cilans-Systems/PythonAIML-Training/blob/main/S1/Python_Foundation_NS.ipynb\" target=\"_parent\"><img src=\"https://colab.research.google.com/assets/colab-badge.svg\" alt=\"Open In Colab\"/></a>"
      ]
    },
    {
      "cell_type": "markdown",
      "metadata": {
        "id": "rOKedSO4uheg"
      },
      "source": [
        "Code to Fetch Data"
      ],
      "id": "rOKedSO4uheg"
    },
    {
      "cell_type": "markdown",
      "metadata": {
        "id": "cXT8LYVDht34"
      },
      "source": [
        ""
      ],
      "id": "cXT8LYVDht34"
    },
    {
      "cell_type": "code",
      "metadata": {
        "colab": {
          "base_uri": "https://localhost:8080/"
        },
        "id": "AdrsQjS4uebL",
        "outputId": "c08b9944-cebc-4ca3-f1a3-03ce0333493b"
      },
      "source": [
        "!git clone https://github.com/Cilans-Systems/PythonAIML-Training.git\n",
        "import os\n",
        "os.chdir('/content/PythonAIML-Training/S1')"
      ],
      "id": "AdrsQjS4uebL",
      "execution_count": 36,
      "outputs": [
        {
          "output_type": "stream",
          "text": [
            "Cloning into 'PythonAIML-Training'...\n",
            "remote: Enumerating objects: 42, done.\u001b[K\n",
            "remote: Counting objects: 100% (42/42), done.\u001b[K\n",
            "remote: Compressing objects: 100% (37/37), done.\u001b[K\n",
            "remote: Total 42 (delta 12), reused 20 (delta 4), pack-reused 0\u001b[K\n",
            "Unpacking objects: 100% (42/42), done.\n"
          ],
          "name": "stdout"
        }
      ]
    },
    {
      "cell_type": "markdown",
      "metadata": {
        "id": "DE6pY1ePubPW"
      },
      "source": [
        "#  Welcome to Python Foundation   \n",
        "## Python Learning is foundation for any AI ML Data Science Career Path \n",
        "### Coach :  Nikhil Shah"
      ],
      "id": "DE6pY1ePubPW"
    },
    {
      "cell_type": "code",
      "metadata": {
        "id": "Lf2R-_GMubPb",
        "colab": {
          "base_uri": "https://localhost:8080/"
        },
        "outputId": "e33f7925-a468-445d-de88-4e104eff225d"
      },
      "source": [
        "x=9\n",
        "y=9.9\n",
        "z= x/2\n",
        "z1=x//2\n",
        "print(\"x=\",x,\"y=\",y,\"z=\",z,\"z1=\",z1)"
      ],
      "id": "Lf2R-_GMubPb",
      "execution_count": 1,
      "outputs": [
        {
          "output_type": "stream",
          "text": [
            "x= 9 y= 9.9 z= 4.5 z1= 4\n"
          ],
          "name": "stdout"
        }
      ]
    },
    {
      "cell_type": "markdown",
      "metadata": {
        "id": "Jc9S6QtA_h_F"
      },
      "source": [
        "####  print function : It is used to print any statement"
      ],
      "id": "Jc9S6QtA_h_F"
    },
    {
      "cell_type": "code",
      "metadata": {
        "colab": {
          "base_uri": "https://localhost:8080/"
        },
        "id": "J8NbGyH0_h_I",
        "outputId": "ec63e04d-3e27-4566-94ce-f6a343caabdd"
      },
      "source": [
        "print(\"This is the First Python Program\")"
      ],
      "id": "J8NbGyH0_h_I",
      "execution_count": 2,
      "outputs": [
        {
          "output_type": "stream",
          "text": [
            "This is the First Python Program\n"
          ],
          "name": "stdout"
        }
      ]
    },
    {
      "cell_type": "markdown",
      "metadata": {
        "id": "_EW0m1Cp_vHy"
      },
      "source": [
        "this is comment"
      ],
      "id": "_EW0m1Cp_vHy"
    },
    {
      "cell_type": "markdown",
      "metadata": {
        "id": "8yYcWXix_h_K"
      },
      "source": [
        "#### Assign value"
      ],
      "id": "8yYcWXix_h_K"
    },
    {
      "cell_type": "code",
      "metadata": {
        "id": "9nbUPYMp_h_K",
        "colab": {
          "base_uri": "https://localhost:8080/"
        },
        "outputId": "f2a383ce-11f0-4c8b-aa64-43d674b7edb3"
      },
      "source": [
        "x,y=10,20\n",
        "print(\"value of x:\",x)\n",
        "print(\"value if y:\",y)"
      ],
      "id": "9nbUPYMp_h_K",
      "execution_count": 3,
      "outputs": [
        {
          "output_type": "stream",
          "text": [
            "value of x: 10\n",
            "value if y: 20\n"
          ],
          "name": "stdout"
        }
      ]
    },
    {
      "cell_type": "code",
      "metadata": {
        "id": "FrRtNfrr_h_O",
        "colab": {
          "base_uri": "https://localhost:8080/"
        },
        "outputId": "82cdab33-3966-4a89-cde8-ec2562c5bb09"
      },
      "source": [
        "# Swap Value (Interchange)\n",
        "x,y=y,x\n",
        "print(\"Value of x:\",x)\n",
        "print(\"value of y:\",y)"
      ],
      "id": "FrRtNfrr_h_O",
      "execution_count": 4,
      "outputs": [
        {
          "output_type": "stream",
          "text": [
            "Value of x: 20\n",
            "value of y: 10\n"
          ],
          "name": "stdout"
        }
      ]
    },
    {
      "cell_type": "markdown",
      "metadata": {
        "id": "hArapUIg_h_P"
      },
      "source": [
        "### Tuple \n",
        "It is collection of different type of value. Tuple is Immutable so we can't change any value inside the tuple. It is Created using presentheases () ."
      ],
      "id": "hArapUIg_h_P"
    },
    {
      "cell_type": "code",
      "metadata": {
        "id": "uLMX23qQ_h_Q",
        "colab": {
          "base_uri": "https://localhost:8080/"
        },
        "outputId": "93e90e4d-5e4d-475c-a777-75a17b64a804"
      },
      "source": [
        "tu = (23, 'abc', 4.56, (2,3), 'def',45,567,34,'Indian Oil',\"Reliance\")\n",
        "tu"
      ],
      "id": "uLMX23qQ_h_Q",
      "execution_count": 5,
      "outputs": [
        {
          "output_type": "execute_result",
          "data": {
            "text/plain": [
              "(23, 'abc', 4.56, (2, 3), 'def', 45, 567, 34, 'Indian Oil', 'Reliance')"
            ]
          },
          "metadata": {
            "tags": []
          },
          "execution_count": 5
        }
      ]
    },
    {
      "cell_type": "markdown",
      "metadata": {
        "id": "bapv1Nzz_h_R"
      },
      "source": [
        "### Indexing and Slicing\n",
        "#####  indexing  start  at  0 position . \n",
        "<ul>\n",
        "    <li>It return one value at a time</li>\n",
        "    <li>Two type of  indexing avaiable:</li>\n",
        "    <ul>\n",
        "        <li> <b>Positive :</b> Positive index start By Zero and left side</li>\n",
        "        <li> <b>Negative :</b> Negative Index start By -1 and Right side</li>\n",
        "    </ul>\n",
        "</ul>"
      ],
      "id": "bapv1Nzz_h_R"
    },
    {
      "cell_type": "markdown",
      "metadata": {
        "id": "8YWDofZs_h_S"
      },
      "source": [
        "#### Indexing and Slicing in Tuple"
      ],
      "id": "8YWDofZs_h_S"
    },
    {
      "cell_type": "code",
      "metadata": {
        "id": "EnlULkIF_h_T",
        "colab": {
          "base_uri": "https://localhost:8080/"
        },
        "outputId": "2dda7b48-5d17-44e1-c909-d17d104ffb15"
      },
      "source": [
        "print(\"First Position Value is :\",tu[0])"
      ],
      "id": "EnlULkIF_h_T",
      "execution_count": 6,
      "outputs": [
        {
          "output_type": "stream",
          "text": [
            "First Position Value is : 23\n"
          ],
          "name": "stdout"
        }
      ]
    },
    {
      "cell_type": "code",
      "metadata": {
        "id": "VyxnhCAA_h_U",
        "colab": {
          "base_uri": "https://localhost:8080/"
        },
        "outputId": "3fb4f948-1076-43b2-b885-742d167dc542"
      },
      "source": [
        "print(\"Fourth Position Value is :\",tu[3])"
      ],
      "id": "VyxnhCAA_h_U",
      "execution_count": 7,
      "outputs": [
        {
          "output_type": "stream",
          "text": [
            "Fourth Position Value is : (2, 3)\n"
          ],
          "name": "stdout"
        }
      ]
    },
    {
      "cell_type": "code",
      "metadata": {
        "id": "jr1NQJmW_h_U",
        "colab": {
          "base_uri": "https://localhost:8080/"
        },
        "outputId": "5e5f0e17-7898-47ca-f68e-d7c827048df9"
      },
      "source": [
        "print(\"Last Position value is:\",tu[-1])"
      ],
      "id": "jr1NQJmW_h_U",
      "execution_count": 8,
      "outputs": [
        {
          "output_type": "stream",
          "text": [
            "Last Position value is: Reliance\n"
          ],
          "name": "stdout"
        }
      ]
    },
    {
      "cell_type": "markdown",
      "metadata": {
        "id": "v1dr-BLU_h_U"
      },
      "source": [
        "##### slicing return range of value\n",
        "Start copying at the first index and stop copying before second.\n",
        "[start:stop:step]"
      ],
      "id": "v1dr-BLU_h_U"
    },
    {
      "cell_type": "code",
      "metadata": {
        "id": "Bo6OXR3i_h_V",
        "colab": {
          "base_uri": "https://localhost:8080/"
        },
        "outputId": "a27ac2c8-8e1e-4c81-b81c-66d15bc8b15e"
      },
      "source": [
        "# display 1 to 3 value\n",
        "tu[1:4]"
      ],
      "id": "Bo6OXR3i_h_V",
      "execution_count": 9,
      "outputs": [
        {
          "output_type": "execute_result",
          "data": {
            "text/plain": [
              "('abc', 4.56, (2, 3))"
            ]
          },
          "metadata": {
            "tags": []
          },
          "execution_count": 9
        }
      ]
    },
    {
      "cell_type": "code",
      "metadata": {
        "id": "HrZ6tCGo_h_V",
        "colab": {
          "base_uri": "https://localhost:8080/"
        },
        "outputId": "7565959b-2d46-444b-f708-470439003523"
      },
      "source": [
        "# Use Negative Index\n",
        "tu[1:-1]"
      ],
      "id": "HrZ6tCGo_h_V",
      "execution_count": 10,
      "outputs": [
        {
          "output_type": "execute_result",
          "data": {
            "text/plain": [
              "('abc', 4.56, (2, 3), 'def', 45, 567, 34, 'Indian Oil')"
            ]
          },
          "metadata": {
            "tags": []
          },
          "execution_count": 10
        }
      ]
    },
    {
      "cell_type": "markdown",
      "metadata": {
        "id": "8nu3BnUe_h_W"
      },
      "source": [
        "### Tuple Function "
      ],
      "id": "8nu3BnUe_h_W"
    },
    {
      "cell_type": "code",
      "metadata": {
        "id": "OqUl5OYO_h_W",
        "colab": {
          "base_uri": "https://localhost:8080/"
        },
        "outputId": "629964ca-a67b-4c13-ff3a-992fce1b9582"
      },
      "source": [
        "# len : return Length of Tuple\n",
        "print (\"First tuple length : \", len(tu)) \n",
        "\n",
        "# Max : find Maximum value of Tuple(Not Apply Mix Data type)\n",
        "tuple1= ('pqr','xyz', 'zara', 'abc')\n",
        "print (\"Max value element : \", max(tuple1))\n",
        "\n",
        "\n",
        "# Min : find Minimum value of Tuple(Not Apply Mix Data type)\n",
        "tuple1= ('pqr','xyz', 'zara', 'abc')\n",
        "print (\"Max value element : \", min(tuple1))\n",
        "\n",
        "# tuple : convert any data into tuple \n",
        "aList = [123, 'xyz', 'zara', 'abc']\n",
        "aTuple = tuple(aList) \n",
        "print(\"New Tuple:\",aTuple)\n"
      ],
      "id": "OqUl5OYO_h_W",
      "execution_count": 11,
      "outputs": [
        {
          "output_type": "stream",
          "text": [
            "First tuple length :  10\n",
            "Max value element :  zara\n",
            "Max value element :  abc\n",
            "New Tuple: (123, 'xyz', 'zara', 'abc')\n"
          ],
          "name": "stdout"
        }
      ]
    },
    {
      "cell_type": "markdown",
      "metadata": {
        "id": "_F6iHba__h_W"
      },
      "source": [
        "### List  :\n",
        "It is also collection of value of Mix data type.It is Mutable so, we can change any value inside the list. Define List using square[] and commas.\n"
      ],
      "id": "_F6iHba__h_W"
    },
    {
      "cell_type": "code",
      "metadata": {
        "id": "927rGYBu_h_X",
        "colab": {
          "base_uri": "https://localhost:8080/"
        },
        "outputId": "34eaf434-c6b9-40f1-cf99-1fe5a3c3d96a"
      },
      "source": [
        "l1=[23, 'abc', 4.56, (2,3), 'def',45,567,34,'Indian Oil',\"Reliance\"]\n",
        "l1"
      ],
      "id": "927rGYBu_h_X",
      "execution_count": 12,
      "outputs": [
        {
          "output_type": "execute_result",
          "data": {
            "text/plain": [
              "[23, 'abc', 4.56, (2, 3), 'def', 45, 567, 34, 'Indian Oil', 'Reliance']"
            ]
          },
          "metadata": {
            "tags": []
          },
          "execution_count": 12
        }
      ]
    },
    {
      "cell_type": "markdown",
      "metadata": {
        "id": "6OE3PjjE_h_X"
      },
      "source": [
        "#### Indexing and Slicing in List\n",
        "It is simmlar to tuple indexing and slicing "
      ],
      "id": "6OE3PjjE_h_X"
    },
    {
      "cell_type": "code",
      "metadata": {
        "id": "7KyRb4Mf_h_Y",
        "colab": {
          "base_uri": "https://localhost:8080/"
        },
        "outputId": "825b24b7-1850-4d5c-8824-0c7bd1adfc2b"
      },
      "source": [
        "print(\"Fourth position value is:\",l1[3])"
      ],
      "id": "7KyRb4Mf_h_Y",
      "execution_count": 13,
      "outputs": [
        {
          "output_type": "stream",
          "text": [
            "Fourth position value is: (2, 3)\n"
          ],
          "name": "stdout"
        }
      ]
    },
    {
      "cell_type": "code",
      "metadata": {
        "id": "_O9-eu3W_h_Y",
        "colab": {
          "base_uri": "https://localhost:8080/"
        },
        "outputId": "eaab58ac-068c-4ce7-8fd0-439e906eccbf"
      },
      "source": [
        "print(\"Fourth position value is:\",l1[6])"
      ],
      "id": "_O9-eu3W_h_Y",
      "execution_count": 14,
      "outputs": [
        {
          "output_type": "stream",
          "text": [
            "Fourth position value is: 567\n"
          ],
          "name": "stdout"
        }
      ]
    },
    {
      "cell_type": "code",
      "metadata": {
        "id": "E5SzNFYE_h_Y",
        "colab": {
          "base_uri": "https://localhost:8080/"
        },
        "outputId": "df9f3700-9594-4b46-d64a-5838be36642a"
      },
      "source": [
        "print(\"9th position value is:\",l1[-2])"
      ],
      "id": "E5SzNFYE_h_Y",
      "execution_count": 15,
      "outputs": [
        {
          "output_type": "stream",
          "text": [
            "9th position value is: Indian Oil\n"
          ],
          "name": "stdout"
        }
      ]
    },
    {
      "cell_type": "code",
      "metadata": {
        "id": "2-_ojAvR_h_Z",
        "colab": {
          "base_uri": "https://localhost:8080/"
        },
        "outputId": "730ce21b-0912-4f5d-a428-c1d548f2878f"
      },
      "source": [
        "# display 3rd position to 6th position\n",
        "l1[3:7]"
      ],
      "id": "2-_ojAvR_h_Z",
      "execution_count": 16,
      "outputs": [
        {
          "output_type": "execute_result",
          "data": {
            "text/plain": [
              "[(2, 3), 'def', 45, 567]"
            ]
          },
          "metadata": {
            "tags": []
          },
          "execution_count": 16
        }
      ]
    },
    {
      "cell_type": "code",
      "metadata": {
        "id": "ZTYDF336_h_Z",
        "colab": {
          "base_uri": "https://localhost:8080/"
        },
        "outputId": "dfbca403-0647-4d37-d9ea-d66c39329fd8"
      },
      "source": [
        "# Return Revese value\n",
        "l1[::-1]"
      ],
      "id": "ZTYDF336_h_Z",
      "execution_count": 17,
      "outputs": [
        {
          "output_type": "execute_result",
          "data": {
            "text/plain": [
              "['Reliance', 'Indian Oil', 34, 567, 45, 'def', (2, 3), 4.56, 'abc', 23]"
            ]
          },
          "metadata": {
            "tags": []
          },
          "execution_count": 17
        }
      ]
    },
    {
      "cell_type": "markdown",
      "metadata": {
        "id": "zJOZ4aHT_h_Z"
      },
      "source": [
        "### List Function"
      ],
      "id": "zJOZ4aHT_h_Z"
    },
    {
      "cell_type": "code",
      "metadata": {
        "id": "vkU1K1IV_h_a",
        "colab": {
          "base_uri": "https://localhost:8080/"
        },
        "outputId": "3d3eb680-8903-40ee-c37a-ab9dab0915cb"
      },
      "source": [
        "# len : return Length of List\n",
        "print (\"First List length : \", len(l1)) \n",
        "\n",
        "# Max : find Maximum value of List(Not Apply Mix Data type)\n",
        "List1= ('pqr','xyz', 'zara', 'abc')\n",
        "print (\"Max value element : \", max(List1))\n",
        "\n",
        "\n",
        "# Min : find Minimum value of List(Not Apply Mix Data type)\n",
        "tuple1= ('pqr','xyz', 'zara', 'abc')\n",
        "print (\"Max value element : \", min(List1))\n",
        "\n",
        "# list : convert any data into list \n",
        "t1 = (123, 'xyz', 'zara', 'abc')\n",
        "aList = list(t1) \n",
        "print(\"New List:\",aList)"
      ],
      "id": "vkU1K1IV_h_a",
      "execution_count": 18,
      "outputs": [
        {
          "output_type": "stream",
          "text": [
            "First List length :  10\n",
            "Max value element :  zara\n",
            "Max value element :  abc\n",
            "New List: [123, 'xyz', 'zara', 'abc']\n"
          ],
          "name": "stdout"
        }
      ]
    },
    {
      "cell_type": "markdown",
      "metadata": {
        "id": "ZM4DF0qP_h_b"
      },
      "source": [
        "### List Method"
      ],
      "id": "ZM4DF0qP_h_b"
    },
    {
      "cell_type": "code",
      "metadata": {
        "id": "POd2obeV_h_c",
        "colab": {
          "base_uri": "https://localhost:8080/"
        },
        "outputId": "8f7d2400-8191-4eed-c1d0-95a2c5f7f4f5"
      },
      "source": [
        "#index: Return index of first occurrence\n",
        "li = [1, 5, 3, 2,5]\n",
        "print(\"Index of First occurence of 5:\",li.index(5))\n",
        "\n",
        "# count : Number of Occurence \n",
        "print(\"Display count of 5:\",li.count(5))\n",
        "\n",
        "# remove : remove First Occurence\n",
        "li.remove(5)\n",
        "print(\"After removing 5:\",li)\n",
        "\n",
        "# reverse : reverse number \n",
        "li.remove(5)\n",
        "print(\"After removing 5:\",li)\n",
        "\n",
        "# sort : to Sort Assesnding Order\n",
        "li.sort()\n",
        "print(\"After Sorting:\",li)\n",
        "\n",
        "# Insert : Insert Value By Position\n",
        "li.insert(1,100)\n",
        "print(\"After Insert Value:\",li)\n",
        "\n",
        "# append : Insert Multiple value at Last position\n",
        "li.append([12,34,55])\n",
        "print(\"After append :\",li)\n",
        "\n",
        "# extend: extend your List\n",
        "li.extend([10,20,30])\n",
        "print(\"Extend List :\",li)"
      ],
      "id": "POd2obeV_h_c",
      "execution_count": 19,
      "outputs": [
        {
          "output_type": "stream",
          "text": [
            "Index of First occurence of 5: 1\n",
            "Display count of 5: 2\n",
            "After removing 5: [1, 3, 2, 5]\n",
            "After removing 5: [1, 3, 2]\n",
            "After Sorting: [1, 2, 3]\n",
            "After Insert Value: [1, 100, 2, 3]\n",
            "After append : [1, 100, 2, 3, [12, 34, 55]]\n",
            "Extend List : [1, 100, 2, 3, [12, 34, 55], 10, 20, 30]\n"
          ],
          "name": "stdout"
        }
      ]
    },
    {
      "cell_type": "markdown",
      "metadata": {
        "id": "AIR00tIb_h_c"
      },
      "source": [
        "### String\n",
        "string is colleciton of Charatcer written in single,double ,triple quote"
      ],
      "id": "AIR00tIb_h_c"
    },
    {
      "cell_type": "code",
      "metadata": {
        "id": "_kwtuEAj_h_d",
        "colab": {
          "base_uri": "https://localhost:8080/"
        },
        "outputId": "d86bb1b9-e4e7-47a5-bb48-879b93ab6ea8"
      },
      "source": [
        "s1=\"Hello, Everyone\"\n",
        "s2='Hello, Everyone'\n",
        "s3=\"\"\"Hello,\n",
        "    Everyone\"\"\"\n",
        "print(s1)\n",
        "print(s2)\n",
        "print(s3)"
      ],
      "id": "_kwtuEAj_h_d",
      "execution_count": 20,
      "outputs": [
        {
          "output_type": "stream",
          "text": [
            "Hello, Everyone\n",
            "Hello, Everyone\n",
            "Hello,\n",
            "    Everyone\n"
          ],
          "name": "stdout"
        }
      ]
    },
    {
      "cell_type": "markdown",
      "metadata": {
        "id": "U-bYyVdV_h_d"
      },
      "source": [
        "#### Indexing and Slicing in String\n",
        "It is simmlar to tuple indexing and slicing "
      ],
      "id": "U-bYyVdV_h_d"
    },
    {
      "cell_type": "code",
      "metadata": {
        "id": "NjehP-a3_h_d",
        "colab": {
          "base_uri": "https://localhost:8080/"
        },
        "outputId": "b49437c9-7dd3-4a73-92bd-b832f9bf5cda"
      },
      "source": [
        "print(\"First Character of String:\",s1[0])\n",
        "print(\"Last Character of String:\",s1[-1])\n",
        "print(\"second to 5th position value:\",s1[2:5])\n",
        "print(\"Seven to 13th position value:\",s1[7:13])\n",
        "# Print After Two Word\n",
        "print(s1[2:])\n",
        "# First 3 Letter\n",
        "print(s1[:3])\n",
        "# Skip Last Number od Letters\n",
        "print(s1[:-3])\n",
        "#Last Number of Character\n",
        "print(s1[-3:])\n"
      ],
      "id": "NjehP-a3_h_d",
      "execution_count": 21,
      "outputs": [
        {
          "output_type": "stream",
          "text": [
            "First Character of String: H\n",
            "Last Character of String: e\n",
            "second to 5th position value: llo\n",
            "Seven to 13th position value: Everyo\n",
            "llo, Everyone\n",
            "Hel\n",
            "Hello, Every\n",
            "one\n"
          ],
          "name": "stdout"
        }
      ]
    },
    {
      "cell_type": "markdown",
      "metadata": {
        "id": "AtN1GFSQ_h_e"
      },
      "source": [
        "### String Method"
      ],
      "id": "AtN1GFSQ_h_e"
    },
    {
      "cell_type": "code",
      "metadata": {
        "id": "yE0lHEIq_h_e",
        "colab": {
          "base_uri": "https://localhost:8080/"
        },
        "outputId": "b23d0d3b-a713-4dbf-f354-c6537aece4be"
      },
      "source": [
        "# len : return Length of List\n",
        "print (\"Length of String: \", len(s1)) \n",
        "\n",
        "# split(): splits the string into substrings if it finds instances of the separator\n",
        "b = s1.split(\",\")\n",
        "print(\"Split String:\",b)\n",
        "\n",
        "# strip() : removes any whitespace from the beginning or the end\n",
        "print(s1.strip())\n",
        "\n",
        "# lower() : convert uppercase to lowercase \n",
        "print(s1.lower())\n",
        "\n",
        "# upper() : convert lowercase to uppercase\n",
        "print(s1.upper())"
      ],
      "id": "yE0lHEIq_h_e",
      "execution_count": 22,
      "outputs": [
        {
          "output_type": "stream",
          "text": [
            "Length of String:  15\n",
            "Split String: ['Hello', ' Everyone']\n",
            "Hello, Everyone\n",
            "hello, everyone\n",
            "HELLO, EVERYONE\n"
          ],
          "name": "stdout"
        }
      ]
    },
    {
      "cell_type": "markdown",
      "metadata": {
        "id": "YOW_T978_h_f"
      },
      "source": [
        "### In operator\n",
        "Boolean test whether a value is inside a container<br/>\n",
        "**in** operator same resonse to list , tuple, String\n"
      ],
      "id": "YOW_T978_h_f"
    },
    {
      "cell_type": "code",
      "metadata": {
        "id": "VuV5RoSX_h_g",
        "colab": {
          "base_uri": "https://localhost:8080/"
        },
        "outputId": "35042286-d640-43fa-f332-fd1ae0ab4f0a"
      },
      "source": [
        "t = [1, 2, 4, 5]\n",
        "print(3 in t)\n",
        "print(4 in t)\n",
        "print(4 not in t)\n"
      ],
      "id": "VuV5RoSX_h_g",
      "execution_count": 23,
      "outputs": [
        {
          "output_type": "stream",
          "text": [
            "False\n",
            "True\n",
            "False\n"
          ],
          "name": "stdout"
        }
      ]
    },
    {
      "cell_type": "markdown",
      "metadata": {
        "id": "UxusGRHl_h_h"
      },
      "source": [
        "### + Operator\n",
        "concatination of two or more collection"
      ],
      "id": "UxusGRHl_h_h"
    },
    {
      "cell_type": "code",
      "metadata": {
        "id": "SpfEVlzQ_h_h",
        "colab": {
          "base_uri": "https://localhost:8080/"
        },
        "outputId": "82136fd7-044e-475e-cf05-2503fb8dea2d"
      },
      "source": [
        "print((1, 2, 3) + (4, 5, 6))\n",
        "print([1, 2, 3] + [4, 5, 6])\n",
        "print(\"Hello\" + \" \" + \"World\")"
      ],
      "id": "SpfEVlzQ_h_h",
      "execution_count": 24,
      "outputs": [
        {
          "output_type": "stream",
          "text": [
            "(1, 2, 3, 4, 5, 6)\n",
            "[1, 2, 3, 4, 5, 6]\n",
            "Hello World\n"
          ],
          "name": "stdout"
        }
      ]
    },
    {
      "cell_type": "markdown",
      "metadata": {
        "id": "YpkUZsp0_h_i"
      },
      "source": [
        "### * operator\n",
        "Repeat number of any Collection"
      ],
      "id": "YpkUZsp0_h_i"
    },
    {
      "cell_type": "code",
      "metadata": {
        "id": "hmEScDz1_h_i",
        "colab": {
          "base_uri": "https://localhost:8080/"
        },
        "outputId": "d5060b31-af6b-4b5a-a7b3-b6f89404bdad"
      },
      "source": [
        "print((1, 2, 3) * 3)\n",
        "print([1, 2, 3] * 3)\n",
        "print(\"Hello\" * 3)"
      ],
      "id": "hmEScDz1_h_i",
      "execution_count": 25,
      "outputs": [
        {
          "output_type": "stream",
          "text": [
            "(1, 2, 3, 1, 2, 3, 1, 2, 3)\n",
            "[1, 2, 3, 1, 2, 3, 1, 2, 3]\n",
            "HelloHelloHello\n"
          ],
          "name": "stdout"
        }
      ]
    },
    {
      "cell_type": "markdown",
      "metadata": {
        "id": "RNBmsDP5_h_i"
      },
      "source": [
        "### Dictionary \n",
        "Dictionary is an  unordered  Collection of key-Value Pairs.\n",
        "![image-2.png](attachment:image-2.png)\n",
        "![image-3.png](attachment:image-3.png)"
      ],
      "id": "RNBmsDP5_h_i"
    },
    {
      "cell_type": "code",
      "metadata": {
        "id": "aNLaeZdV_h_j",
        "colab": {
          "base_uri": "https://localhost:8080/"
        },
        "outputId": "5bbec558-56d2-406f-8813-191bf61579e4"
      },
      "source": [
        "symbol_to_name = {\"H\": \"hydrogen\",\"He\": \"helium\",\"Li\": \"lithium\",\"C\": \"carbon\",\"O\": \"oxygen\",\"N\": \"nitrogen\"}\n",
        "symbol_to_name\n"
      ],
      "id": "aNLaeZdV_h_j",
      "execution_count": 26,
      "outputs": [
        {
          "output_type": "execute_result",
          "data": {
            "text/plain": [
              "{'C': 'carbon',\n",
              " 'H': 'hydrogen',\n",
              " 'He': 'helium',\n",
              " 'Li': 'lithium',\n",
              " 'N': 'nitrogen',\n",
              " 'O': 'oxygen'}"
            ]
          },
          "metadata": {
            "tags": []
          },
          "execution_count": 26
        }
      ]
    },
    {
      "cell_type": "code",
      "metadata": {
        "id": "h09lVsw__h_j",
        "colab": {
          "base_uri": "https://localhost:8080/"
        },
        "outputId": "dff4869a-6fa5-4ae9-a035-03d8e71fa355"
      },
      "source": [
        "print(symbol_to_name[\"C\"])\n",
        "print(symbol_to_name[\"O\"])"
      ],
      "id": "h09lVsw__h_j",
      "execution_count": 27,
      "outputs": [
        {
          "output_type": "stream",
          "text": [
            "carbon\n",
            "oxygen\n"
          ],
          "name": "stdout"
        }
      ]
    },
    {
      "cell_type": "markdown",
      "metadata": {
        "id": "WLDcqzpx_h_k"
      },
      "source": [
        "### Dictionary Method"
      ],
      "id": "WLDcqzpx_h_k"
    },
    {
      "cell_type": "code",
      "metadata": {
        "id": "T0wix_f7_h_k",
        "colab": {
          "base_uri": "https://localhost:8080/"
        },
        "outputId": "33e606b1-5a39-4f44-de0e-47270d0adf5f"
      },
      "source": [
        "# keys(): return all key of dictionary\n",
        "print(symbol_to_name.keys())\n",
        "# values(): return all values from dictionary\n",
        "print(symbol_to_name.values())\n",
        "# items(): return all key and value of dictionary\n",
        "print(symbol_to_name.items())"
      ],
      "id": "T0wix_f7_h_k",
      "execution_count": 28,
      "outputs": [
        {
          "output_type": "stream",
          "text": [
            "dict_keys(['H', 'He', 'Li', 'C', 'O', 'N'])\n",
            "dict_values(['hydrogen', 'helium', 'lithium', 'carbon', 'oxygen', 'nitrogen'])\n",
            "dict_items([('H', 'hydrogen'), ('He', 'helium'), ('Li', 'lithium'), ('C', 'carbon'), ('O', 'oxygen'), ('N', 'nitrogen')])\n"
          ],
          "name": "stdout"
        }
      ]
    },
    {
      "cell_type": "markdown",
      "metadata": {
        "id": "XIKcDpjE_h_k"
      },
      "source": [
        "### Operator\n",
        "Operators are used to perform operations on variables and values.<br/>\n",
        "Python Provide 5 Type Operator.<br/>\n",
        "<ul>\n",
        "    <li>1. Arithmatic Operator</li>\n",
        "    <li>2. Relational Operator</li>\n",
        "    <li>3. Logical Operator</li>\n",
        "    <li>4. Identity Operator</li>\n",
        "    <li>5. Mombership Operator</li>\n",
        "    \n",
        "</ul>\n",
        "\n"
      ],
      "id": "XIKcDpjE_h_k"
    },
    {
      "cell_type": "code",
      "metadata": {
        "id": "4ZATvEI2_h_l",
        "colab": {
          "base_uri": "https://localhost:8080/"
        },
        "outputId": "d732dc23-6580-458b-946c-e86b7ee66191"
      },
      "source": [
        "# Arithmatic Operator\n",
        "a=int(input(\"Enter the value of a:\"))\n",
        "b=int(input(\"Enter the Value of b:\"))\n",
        "print(\"Addition is \",a+b)\n",
        "print(\"Subtraction is \",a-b)\n",
        "print(\"Multiplication\",a*b)\n",
        "print(\"Division \",a/b)\n",
        "print(\"Exponentiation of a^b\",a**b)\n",
        "print(\"Floor Division \",a//b)"
      ],
      "id": "4ZATvEI2_h_l",
      "execution_count": 37,
      "outputs": [
        {
          "output_type": "stream",
          "text": [
            "Enter the value of a:4\n",
            "Enter the Value of b:3\n",
            "Addition is  7\n",
            "Subtraction is  1\n",
            "Multiplication 12\n",
            "Division  1.3333333333333333\n",
            "Exponentiation of a^b 64\n",
            "Floor Division  1\n"
          ],
          "name": "stdout"
        }
      ]
    },
    {
      "cell_type": "code",
      "metadata": {
        "id": "hjXtbpCD_h_l"
      },
      "source": [
        "# Relational Operator\n",
        "a=eval(input(\"Enter the  value of a:\"))\n",
        "b=eval(input(\"Enter the  value of b:\"))\n",
        "\n",
        "print(\"Equal to:\",(a==b))\n",
        "print(\"Not Equal to :\",(a!=b))\n",
        "print(\"Greater than:\",(a>b))\n",
        "print(\"Less than:\",(a<b))\n",
        "print(\"Greater than or Equal to:\",(a>=b))\n",
        "print(\"Less than or Equal to\",(a<=b))\n"
      ],
      "id": "hjXtbpCD_h_l",
      "execution_count": null,
      "outputs": []
    },
    {
      "cell_type": "code",
      "metadata": {
        "id": "r-d0_r-i_h_l"
      },
      "source": [
        "# Logical Operator\n",
        "a=eval(input(\"Enter the  value of a:\"))\n",
        "b=eval(input(\"Enter the  value of b:\"))\n",
        "\n",
        "c=eval(input(\"Enter the  value of c:\"))\n",
        "print(\"Using And :\",a>b and a>c)\n",
        "print(\"Using Or :\",a>b or a>c)\n",
        "print(\"Using Not :\",not(a>b and a>c))\n"
      ],
      "id": "r-d0_r-i_h_l",
      "execution_count": null,
      "outputs": []
    },
    {
      "cell_type": "code",
      "metadata": {
        "id": "qgW8nt6v_h_m"
      },
      "source": [
        "# Identity Operator\n",
        "x = [\"apple\", \"banana\"]\n",
        "y = [\"apple\", \"banana\"]\n",
        "z = x\n",
        "print(x is z)\n",
        "# returns True because z is the same object as x\n",
        "print(x is y)\n",
        "# returns False because x is not the same object as y, even if they have the same content\n",
        "print(x == y)\n",
        "# to demonstrate the difference betweeen \"is\" and \"==\": this  comparison returns True because x is equal to y\n"
      ],
      "id": "qgW8nt6v_h_m",
      "execution_count": null,
      "outputs": []
    },
    {
      "cell_type": "code",
      "metadata": {
        "id": "KR_ZEzht_h_m"
      },
      "source": [
        "# Membership Operator\n",
        "x = [\"apple\", \"banana\"]\n",
        "print(\"banana\" in x)\n",
        "#returns True because a sequence with the value \"banana\" is in the list\n",
        "x = [\"apple\", \"banana\"]\n",
        "\n",
        "print(\"pineapple\" not in x)\n",
        "# returns True because a sequence with the value \"pineapple\" is not in the list\n"
      ],
      "id": "KR_ZEzht_h_m",
      "execution_count": null,
      "outputs": []
    },
    {
      "cell_type": "markdown",
      "metadata": {
        "id": "QvxudPzg_h_n"
      },
      "source": [
        "### Conditional Statement"
      ],
      "id": "QvxudPzg_h_n"
    },
    {
      "cell_type": "markdown",
      "metadata": {
        "id": "Ub-6wbFx_h_n"
      },
      "source": [
        "A conditional Statement choose which statement will be executed next; therefore they are sometimes called Selection Statement.\n",
        "<ul>\n",
        "    <li>Simple If</li>\n",
        "<li>If-Else Statement</li>\n",
        "<li>Elif statement </li>\n",
        "</ul>\n"
      ],
      "id": "Ub-6wbFx_h_n"
    },
    {
      "cell_type": "code",
      "metadata": {
        "id": "jBmBF7Bw_h_n",
        "colab": {
          "base_uri": "https://localhost:8080/"
        },
        "outputId": "a5cea179-4e25-4c47-885b-61225fc1743b"
      },
      "source": [
        "# Simple if Statement\n",
        "Petrol_price=30\n",
        "Desal_Price=20\n",
        "if Petrol_price>Desal_Price:\n",
        "    print(\"Petrol is Costly\")\n"
      ],
      "id": "jBmBF7Bw_h_n",
      "execution_count": 30,
      "outputs": [
        {
          "output_type": "stream",
          "text": [
            "Petrol is Costly\n"
          ],
          "name": "stdout"
        }
      ]
    },
    {
      "cell_type": "code",
      "metadata": {
        "id": "VTbcxkhN_h_n",
        "colab": {
          "base_uri": "https://localhost:8080/"
        },
        "outputId": "ec2ee8d4-fc54-4bf0-d064-ea83f02df3df"
      },
      "source": [
        "# If-else Statement\n",
        "Petrol_price=30\n",
        "Desal_Price=20\n",
        "if Petrol_price>Desal_Price:\n",
        "    print(\"Petrol is Costly\")\n",
        "else:\n",
        "     print(\"Desal is Costly\")\n"
      ],
      "id": "VTbcxkhN_h_n",
      "execution_count": 31,
      "outputs": [
        {
          "output_type": "stream",
          "text": [
            "Petrol is Costly\n"
          ],
          "name": "stdout"
        }
      ]
    },
    {
      "cell_type": "code",
      "metadata": {
        "id": "NqFzxh1P_h_o",
        "colab": {
          "base_uri": "https://localhost:8080/"
        },
        "outputId": "608e0116-f361-4ed9-f049-82126b111ddf"
      },
      "source": [
        "# Elif Statement\n",
        "color=input(\"Enter the color name:\")\n",
        "if color==\"red\" or color==\"RED\":\n",
        "    print(\"Your Signal is 'RED' Please Stop!\")\n",
        "elif color==\"green\" or color==\"GREEN\":\n",
        "    print(\"Your Signal is 'GREEN'  So Go Ahead!\")\n",
        "elif color==\"orange\" or color==\"ORANGE\":\n",
        "    print(\"Your Signal is 'ORANGE'  So Go Slow!\")\n",
        "else:\n",
        "    print(\"You enter wrong Color Name\")\n"
      ],
      "id": "NqFzxh1P_h_o",
      "execution_count": 32,
      "outputs": [
        {
          "output_type": "stream",
          "text": [
            "Enter the color name:\n",
            "You enter wrong Color Name\n"
          ],
          "name": "stdout"
        }
      ]
    },
    {
      "cell_type": "markdown",
      "metadata": {
        "id": "HzwN_-cw_h_o"
      },
      "source": [
        "### Loop Statement\n",
        "A loop statements are executed sequentially<br/>\n",
        "The first statement in a function is executed first, followed by the second, and so on. <br/>\n",
        "<ul>\n",
        "    <li>For Loop</li>\n",
        "<li>While Loop</li>\n",
        "\n",
        "</ul>\n",
        "\n"
      ],
      "id": "HzwN_-cw_h_o"
    },
    {
      "cell_type": "code",
      "metadata": {
        "id": "8LFrEiqC_h_o",
        "colab": {
          "base_uri": "https://localhost:8080/"
        },
        "outputId": "927f985f-6f80-4eed-91f8-8ac8d16e0884"
      },
      "source": [
        "# For loop\n",
        "oil_price={\"Jan\":100,\"Feb\":67.7,\"March\":35.67,\"April\":67.89,\"May\":77.5}\n",
        "print(\"Month_Name\\tPrice\")\n",
        "for k,v in oil_price.items():\n",
        "    print(k,\"\\t\\t\",v)"
      ],
      "id": "8LFrEiqC_h_o",
      "execution_count": 33,
      "outputs": [
        {
          "output_type": "stream",
          "text": [
            "Month_Name\tPrice\n",
            "Jan \t\t 100\n",
            "Feb \t\t 67.7\n",
            "March \t\t 35.67\n",
            "April \t\t 67.89\n",
            "May \t\t 77.5\n"
          ],
          "name": "stdout"
        }
      ]
    },
    {
      "cell_type": "code",
      "metadata": {
        "id": "7cdz_X1n_h_p",
        "colab": {
          "base_uri": "https://localhost:8080/"
        },
        "outputId": "eca6d0bd-7a99-4af7-cc29-45a56738d5ac"
      },
      "source": [
        "# While Loop\n",
        "oil_price=[100,67.7,35.67,67.89,77.5]\n",
        "m=0\n",
        "n=len(oil_price)\n",
        "while m<n:\n",
        "    print(oil_price[m])\n",
        "    m=m+1\n",
        "    "
      ],
      "id": "7cdz_X1n_h_p",
      "execution_count": 34,
      "outputs": [
        {
          "output_type": "stream",
          "text": [
            "100\n",
            "67.7\n",
            "35.67\n",
            "67.89\n",
            "77.5\n"
          ],
          "name": "stdout"
        }
      ]
    },
    {
      "cell_type": "markdown",
      "metadata": {
        "id": "-WaZ_Vw1_h_p"
      },
      "source": [
        "### File Operation"
      ],
      "id": "-WaZ_Vw1_h_p"
    },
    {
      "cell_type": "code",
      "metadata": {
        "id": "DVqzFGCl_h_p",
        "colab": {
          "base_uri": "https://localhost:8080/"
        },
        "outputId": "ac69dffb-011e-4e66-fd06-b737ee662392"
      },
      "source": [
        "f1=open(\"indian_oil.txt\",\"r\")\n",
        "data=f1.read(10)\n",
        "print(data)\n",
        "f1.close()"
      ],
      "id": "DVqzFGCl_h_p",
      "execution_count": 38,
      "outputs": [
        {
          "output_type": "stream",
          "text": [
            "Indian Oil\n"
          ],
          "name": "stdout"
        }
      ]
    },
    {
      "cell_type": "code",
      "metadata": {
        "id": "x_kJoKbd_h_p",
        "colab": {
          "base_uri": "https://localhost:8080/"
        },
        "outputId": "65447119-9b3e-431a-b3a9-e70b40a0f7c6"
      },
      "source": [
        "f1=open(\"indian_oil.txt\",\"r\")\n",
        "data=f1.readline()\n",
        "print(data)\n",
        "f1.close()"
      ],
      "id": "x_kJoKbd_h_p",
      "execution_count": 39,
      "outputs": [
        {
          "output_type": "stream",
          "text": [
            "Indian Oil Corporation Limited.\n",
            "\n"
          ],
          "name": "stdout"
        }
      ]
    },
    {
      "cell_type": "code",
      "metadata": {
        "id": "VnCqgX9K_h_s"
      },
      "source": [
        ""
      ],
      "id": "VnCqgX9K_h_s",
      "execution_count": null,
      "outputs": []
    }
  ]
}