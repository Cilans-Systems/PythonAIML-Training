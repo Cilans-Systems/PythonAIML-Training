{
  "nbformat": 4,
  "nbformat_minor": 0,
  "metadata": {
    "kernelspec": {
      "display_name": "Python 3",
      "language": "python",
      "name": "python3"
    },
    "language_info": {
      "codemirror_mode": {
        "name": "ipython",
        "version": 3
      },
      "file_extension": ".py",
      "mimetype": "text/x-python",
      "name": "python",
      "nbconvert_exporter": "python",
      "pygments_lexer": "ipython3",
      "version": "3.8.3"
    },
    "colab": {
      "name": "descriptive_statistics.ipynb",
      "provenance": [],
      "include_colab_link": true
    }
  },
  "cells": [
    {
      "cell_type": "markdown",
      "metadata": {
        "id": "view-in-github",
        "colab_type": "text"
      },
      "source": [
        "<a href=\"https://colab.research.google.com/github/Cilans-Systems/PythonAIML-Training/blob/main/descriptive_statistics%20(1)/descriptive_statistics.ipynb\" target=\"_parent\"><img src=\"https://colab.research.google.com/assets/colab-badge.svg\" alt=\"Open In Colab\"/></a>"
      ]
    },
    {
      "cell_type": "markdown",
      "metadata": {
        "id": "TyFXm9CG43wV"
      },
      "source": [
        "![image.png](attachment:image.png)\n",
        "\n",
        "###############################################################################################################################\n",
        "# Welcome to Vnurture Technologies\n",
        "# This files is illustrations for using pandas for data structures handling \n",
        "\n",
        "\n",
        "# DO NOT COPY WITHOUT PRIOR WRITTEN APPROVAL \n",
        "# for more information contact   info@vnurture.in\n",
        "###############################################################################################################################\n",
        "\n"
      ]
    },
    {
      "cell_type": "markdown",
      "metadata": {
        "id": "ph9hrFkY43wZ"
      },
      "source": [
        "#  Vnurture Technologis\n",
        "# Statistics with Python\n",
        "- Python’s statistics is a built-in Python library for descriptive statistics. You can use it if your datasets are not too large or if you can’t rely on importing other libraries.\n",
        "\n",
        "- SciPy is a third-party library for scientific computing based on NumPy. It offers additional functionality compared to NumPy, including scipy.stats for statistical analysis.\n",
        "\n",
        "- Pandas is a third-party library for numerical computing based on NumPy. It excels in handling labeled one-dimensional (1D) data with Series objects and two-dimensional (2D) data with DataFrame objects.\n",
        "\n",
        "- Matplotlib is a third-party library for data visualization. It works well in combination with NumPy, SciPy, and Pandas.\n",
        "\n",
        "We are using mostly scipy.stats here"
      ]
    },
    {
      "cell_type": "markdown",
      "metadata": {
        "id": "DKWTAojb43wa"
      },
      "source": [
        "# Descriptive Statistic\n",
        "A descriptive statistic is a summary statistic that quantitatively describes or summarizes features from a collection of information, while descriptive statistics is the process of using and analysing those statistics."
      ]
    },
    {
      "cell_type": "code",
      "metadata": {
        "id": "YUv9rmZl43wb"
      },
      "source": [
        "# importing neccesory librery\n",
        "#!pin insatll math\n",
        "import scipy.stats as st\n",
        "import numpy as np\n",
        "import math"
      ],
      "execution_count": null,
      "outputs": []
    },
    {
      "cell_type": "code",
      "metadata": {
        "id": "reKvr1Xw43wc"
      },
      "source": [
        "# defining important variables\n",
        "x = [8.0, 1, 2.5, 4, 28.0]"
      ],
      "execution_count": null,
      "outputs": []
    },
    {
      "cell_type": "markdown",
      "metadata": {
        "id": "l5ir29f343wc"
      },
      "source": [
        "# Mean\n",
        "Mean is the sum of a collection of numbers divided by the count of numbers in the collection"
      ]
    },
    {
      "cell_type": "code",
      "metadata": {
        "id": "kgPc6mhq43wd",
        "colab": {
          "base_uri": "https://localhost:8080/"
        },
        "outputId": "7963feac-49ec-4ef2-c57e-744c1cbdd569"
      },
      "source": [
        "# calculating mean\n",
        "mean = np.mean(x)\n",
        "print(mean)"
      ],
      "execution_count": null,
      "outputs": [
        {
          "output_type": "stream",
          "text": [
            "8.7\n"
          ],
          "name": "stdout"
        }
      ]
    },
    {
      "cell_type": "markdown",
      "metadata": {
        "id": "dI8NIzBZ43we"
      },
      "source": [
        "\n"
      ]
    },
    {
      "cell_type": "markdown",
      "metadata": {
        "id": "8OE0tsyq43we"
      },
      "source": [
        "# Weighted Arithmetic Mean\n",
        "The weighted arithmetic mean is similar to an ordinary arithmetic mean, except that instead of each of the data points contributing equally to the final average, some data points contribute more than others."
      ]
    },
    {
      "cell_type": "code",
      "metadata": {
        "id": "2ydcRkbG43wf",
        "colab": {
          "base_uri": "https://localhost:8080/"
        },
        "outputId": "b2e97890-20ef-4d8f-efcd-5b092190cbb0"
      },
      "source": [
        "# calculating weighted avarage mean\n",
        "x = [8.0, 1, 2.5, 4, 28.0]\n",
        "w = [0.1, 0.2, 0.3, 0.25, 0.15]\n",
        "wmean = np.average(x, weights=w)\n",
        "print(wmean)"
      ],
      "execution_count": null,
      "outputs": [
        {
          "output_type": "stream",
          "text": [
            "6.95\n"
          ],
          "name": "stdout"
        }
      ]
    },
    {
      "cell_type": "markdown",
      "metadata": {
        "id": "cYwrVZ4T43wf"
      },
      "source": [
        "# Harmonic Mean\n",
        "The harmonic mean is a type of numerical average. It is calculated by dividing the number of observations by the reciprocal of each number in the series. Thus, the harmonic mean is the reciprocal of the arithmetic mean of the reciprocals."
      ]
    },
    {
      "cell_type": "code",
      "metadata": {
        "id": "Ceba5sTo43wg",
        "colab": {
          "base_uri": "https://localhost:8080/"
        },
        "outputId": "57889bec-981d-4367-99b8-958c73e3a05c"
      },
      "source": [
        "# harmonic mean\n",
        "x = [8.0, 1, 2.5, 4, 28.0]\n",
        "harmonic_mean = st.hmean(x)\n",
        "print(harmonic_mean)"
      ],
      "execution_count": null,
      "outputs": [
        {
          "output_type": "stream",
          "text": [
            "2.7613412228796843\n"
          ],
          "name": "stdout"
        }
      ]
    },
    {
      "cell_type": "markdown",
      "metadata": {
        "id": "NFR8Exqw43wg"
      },
      "source": [
        "# Geometric Mean\n",
        "- the geometric mean is a mean or average, which indicates the central tendency or typical value of a set of numbers by using the product of their values.\n",
        "- The geometric mean is used in finance to calculate average growth rates and is referred to as the compounded annual growth rate. Consider a stock that grows by 10% in year one, declines by 20% in year two, and then grows by 30% in year three."
      ]
    },
    {
      "cell_type": "code",
      "metadata": {
        "id": "4N3DUY6b43wh",
        "colab": {
          "base_uri": "https://localhost:8080/"
        },
        "outputId": "b79a7e16-10a9-43b2-b285-995f21e78c1f"
      },
      "source": [
        "# geomatric mean\n",
        "x = [8.0, 1, 2.5, 4, 28.0]\n",
        "geomatric_mean = st.gmean(x)\n",
        "print(geomatric_mean)"
      ],
      "execution_count": null,
      "outputs": [
        {
          "output_type": "stream",
          "text": [
            "4.67788567485604\n"
          ],
          "name": "stdout"
        }
      ]
    },
    {
      "cell_type": "markdown",
      "metadata": {
        "id": "VEC4Qvd-43wh"
      },
      "source": [
        "# Median\n",
        "- A median is a value separating the higher half from the lower half of a data sample, a population or a probability distribution. For a data set, it may be thought of as \"the middle\" value.\n",
        "- The median can be used to determine an approximate average, or mean, but is not to be confused with the actual mean. If there is an odd amount of numbers, the median value is the number that is in the middle, with the same amount of numbers below and above."
      ]
    },
    {
      "cell_type": "code",
      "metadata": {
        "id": "Ctb2DoXt43wi",
        "colab": {
          "base_uri": "https://localhost:8080/"
        },
        "outputId": "b4d48dda-b7a5-4357-aa03-7230ae275556"
      },
      "source": [
        "# median\n",
        "median_ = np.median(x)\n",
        "print(median_)"
      ],
      "execution_count": null,
      "outputs": [
        {
          "output_type": "stream",
          "text": [
            "4.0\n"
          ],
          "name": "stdout"
        }
      ]
    },
    {
      "cell_type": "markdown",
      "metadata": {
        "id": "NZqOqSKz43wi"
      },
      "source": [
        "# Mode\n",
        "- The mode is the value that appears most often in a set of data values.\n",
        "- Let us understand use of mode with the help of example. Imagine that you live in a small town where most of the people are employed by a factory and earn minimum wage. One of the factory owners lives in the town and his salary is in the millions of dollars. If you use a measure like the average to try to compare salaries in the town as a whole, the owner's income would severely throw off the numbers. This is where the measure of mode can be useful in the real world. It tells you what most of the pieces of data are doing within a set of information."
      ]
    },
    {
      "cell_type": "code",
      "metadata": {
        "id": "DOyPdBDS43wi",
        "colab": {
          "base_uri": "https://localhost:8080/"
        },
        "outputId": "e5005387-87d0-4821-cf5e-db8a089ca0c8"
      },
      "source": [
        "# mode\n",
        "v = [12, 15, 12, 15, 21, 15, 12]\n",
        "\n",
        "mode_ = st.mode(v)\n",
        "print(mode_)\n",
        "\n",
        "# accesing value of mode\n",
        "print(mode_.mode)\n",
        "print(mode_.count)"
      ],
      "execution_count": null,
      "outputs": [
        {
          "output_type": "stream",
          "text": [
            "ModeResult(mode=array([12]), count=array([3]))\n",
            "[12]\n",
            "[3]\n"
          ],
          "name": "stdout"
        }
      ]
    },
    {
      "cell_type": "markdown",
      "metadata": {
        "id": "7rWGZpX-43wj"
      },
      "source": [
        "# Measure of Variability\n",
        "\n",
        "    Variance\n",
        "    Standard deviation\n",
        "    Skewness\n",
        "    Percentiles\n",
        "    Ranges\n"
      ]
    },
    {
      "cell_type": "markdown",
      "metadata": {
        "id": "FHBDoANi43wj"
      },
      "source": [
        "## Variance\n",
        "- Variance is the expectation of the squared deviation of a random variable from its mean. Informally, it measures how far a set of numbers is spread out from their average value.\n",
        "- Statisticians use variance to see how individual numbers relate to each other within a data set, rather than using broader mathematical techniques such as arranging numbers into quartiles."
      ]
    },
    {
      "cell_type": "code",
      "metadata": {
        "id": "MSvZLmEQ43wk",
        "colab": {
          "base_uri": "https://localhost:8080/"
        },
        "outputId": "4ec8c360-a809-4675-c631-97f32dc99540"
      },
      "source": [
        "# variance\n",
        "var_ = np.var(x, ddof=1)\n",
        "print(var_)"
      ],
      "execution_count": null,
      "outputs": [
        {
          "output_type": "stream",
          "text": [
            "123.19999999999999\n"
          ],
          "name": "stdout"
        }
      ]
    },
    {
      "cell_type": "markdown",
      "metadata": {
        "id": "qgPspSix43wk"
      },
      "source": [
        "# Standard Deviation\n",
        "- The standard deviation is a measure of the amount of variation or dispersion of a set of values. A low standard deviation indicates that the values tend to be close to the mean of the set, while a high standard deviation indicates that the values are spread out over a wider range.\n",
        "- In finance, standard deviations of price data are frequently used as a measure of volatility.\n",
        "\n",
        "ddof  - ddof Means Delta Degrees of Freedom. The divisor used in calculations is N - ddof, where N represents the number of elements. By default ddof is zero.\n",
        "\n",
        "Delta Degree of Freedom is the number of degrees of freedom is the number of values in the final calculation of a statistic that are free to vary"
      ]
    },
    {
      "cell_type": "code",
      "metadata": {
        "id": "aoglNhBA43wk",
        "colab": {
          "base_uri": "https://localhost:8080/"
        },
        "outputId": "10f10b1c-53bb-4499-cff3-556eb061b0ce"
      },
      "source": [
        "# standard deviation\n",
        "std_ = np.std(x, ddof=1)\n",
        "print(std_)"
      ],
      "execution_count": null,
      "outputs": [
        {
          "output_type": "stream",
          "text": [
            "11.099549540409285\n"
          ],
          "name": "stdout"
        }
      ]
    },
    {
      "cell_type": "markdown",
      "metadata": {
        "id": "o2AqMUw343wl"
      },
      "source": [
        "# Skewness  - measure of spread\n",
        "- Skewness is a measure of the asymmetry of the probability distribution of a real-valued random variable about its mean. The skewness value can be positive, zero, negative, or undefined."
      ]
    },
    {
      "cell_type": "code",
      "metadata": {
        "id": "IcOPnZXQ43wl",
        "colab": {
          "base_uri": "https://localhost:8080/"
        },
        "outputId": "2b279a7e-b134-4075-860d-cefaad752b44"
      },
      "source": [
        "# skewness\n",
        "# The skewness measures the asymmetry of a data sample.\n",
        "\n",
        "skew_ = st.skew(x, bias=False)\n",
        "print(skew_)"
      ],
      "execution_count": null,
      "outputs": [
        {
          "output_type": "stream",
          "text": [
            "1.9470432273905927\n"
          ],
          "name": "stdout"
        }
      ]
    },
    {
      "cell_type": "markdown",
      "metadata": {
        "id": "BT0j7Jv143wm"
      },
      "source": [
        "# Percentile\n",
        "- A percentile is a measure used in statistics indicating the value below which a given percentage of observations in a group of observations falls. \n",
        "- For example, the 20th percentile is the value below which 20% of the observations may be found. Equivalently, 80% of the observations are found above the 20th percentile."
      ]
    },
    {
      "cell_type": "code",
      "metadata": {
        "id": "bGHUCLUG43wm",
        "colab": {
          "base_uri": "https://localhost:8080/"
        },
        "outputId": "145528f1-7f0f-4632-8789-7d9a1081d288"
      },
      "source": [
        "# single percentile\n",
        "x = [8.0, 1, 2.5, 4, 28.0]\n",
        "np.percentile(x,20)\n"
      ],
      "execution_count": null,
      "outputs": [
        {
          "output_type": "execute_result",
          "data": {
            "text/plain": [
              "2.2"
            ]
          },
          "metadata": {
            "tags": []
          },
          "execution_count": 12
        }
      ]
    },
    {
      "cell_type": "code",
      "metadata": {
        "id": "rOqJmEH443wn",
        "colab": {
          "base_uri": "https://localhost:8080/"
        },
        "outputId": "496bb0a5-dfd1-480d-a1b2-62c6db58a576"
      },
      "source": [
        "# multiple percentile\n",
        "np.percentile(x, [25, 50, 75])"
      ],
      "execution_count": null,
      "outputs": [
        {
          "output_type": "execute_result",
          "data": {
            "text/plain": [
              "array([2.5, 4. , 8. ])"
            ]
          },
          "metadata": {
            "tags": []
          },
          "execution_count": 13
        }
      ]
    },
    {
      "cell_type": "markdown",
      "metadata": {
        "id": "kcm4Ajx843wo"
      },
      "source": [
        "## Range (peak to peak)\n",
        "np.ptp returen range of values (maximum - minimum) along an axis. The name of the function comes from the acronym for ‘peak to peak’."
      ]
    },
    {
      "cell_type": "code",
      "metadata": {
        "id": "T_He6H4s43wo",
        "colab": {
          "base_uri": "https://localhost:8080/"
        },
        "outputId": "cdc4c3be-8df7-450a-8c05-ff1e71354397"
      },
      "source": [
        "# range of data is the difference between the maximum and minimum element in the dataset\n",
        "np.ptp(x)"
      ],
      "execution_count": null,
      "outputs": [
        {
          "output_type": "execute_result",
          "data": {
            "text/plain": [
              "27.0"
            ]
          },
          "metadata": {
            "tags": []
          },
          "execution_count": 14
        }
      ]
    },
    {
      "cell_type": "code",
      "metadata": {
        "id": "ZK4dAPdn43wo",
        "colab": {
          "base_uri": "https://localhost:8080/"
        },
        "outputId": "6974a6fd-2611-4952-c7d8-f03f859bb51b"
      },
      "source": [
        "# getting minimum and maximum value and verify it with result of np.ptp\n",
        "np.max(x) - np.min(x)"
      ],
      "execution_count": null,
      "outputs": [
        {
          "output_type": "execute_result",
          "data": {
            "text/plain": [
              "27.0"
            ]
          },
          "metadata": {
            "tags": []
          },
          "execution_count": 15
        }
      ]
    },
    {
      "cell_type": "markdown",
      "metadata": {
        "id": "Mx68F8CI43wp"
      },
      "source": [
        "# Interquartile Range\n",
        "- The interquartile range is the difference between the first and third quartile. Once you calculate the quartiles, you can take their difference:"
      ]
    },
    {
      "cell_type": "code",
      "metadata": {
        "id": "OBu1GvOt43wp",
        "colab": {
          "base_uri": "https://localhost:8080/"
        },
        "outputId": "5121b827-fbd9-4874-9083-381802916384"
      },
      "source": [
        "# First quartile (Q1) \n",
        "Q1 = np.percentile(x, 25, interpolation = 'midpoint') \n",
        "  \n",
        "# Third quartile (Q3) \n",
        "Q3 = np.percentile(x, 75, interpolation = 'midpoint') \n",
        "  \n",
        "# Interquaritle range \n",
        "IQR=Q3-Q1\n",
        "print(IQR)"
      ],
      "execution_count": null,
      "outputs": [
        {
          "output_type": "stream",
          "text": [
            "5.5\n"
          ],
          "name": "stdout"
        }
      ]
    },
    {
      "cell_type": "code",
      "metadata": {
        "id": "D7oyLrTA43wp",
        "colab": {
          "base_uri": "https://localhost:8080/"
        },
        "outputId": "37bdb0ec-d6c7-44d4-db2b-73129c704b0e"
      },
      "source": [
        "quartiles = np.quantile(x, [0.25, 0.75])\n",
        "quartiles[1] - quartiles[0]"
      ],
      "execution_count": null,
      "outputs": [
        {
          "output_type": "execute_result",
          "data": {
            "text/plain": [
              "5.5"
            ]
          },
          "metadata": {
            "tags": []
          },
          "execution_count": 17
        }
      ]
    },
    {
      "cell_type": "markdown",
      "metadata": {
        "id": "ccYWxmIe43wq"
      },
      "source": [
        "Describe function compute several descriptive statistics of the passed array. which are described bellow\n",
        "- nobs - Number of observations (length of data along axis). \n",
        "- minmax - Minimum and maximum value of data array.\n",
        "- mean - Arithmetic mean of data along axis.\n",
        "- variance - Unbiased variance of the data along axis, denominator is number of observations minus one.\n",
        "- skewness - Skewness, based on moment calculations with denominator equal to the number of observations, i.e. no degrees of freedom correction.\n",
        "- kurtosis - The kurtosis is normalized so that it is zero for the normal distribution. No degrees of freedom are used."
      ]
    },
    {
      "cell_type": "code",
      "metadata": {
        "id": "JiVW-PVK43wq",
        "colab": {
          "base_uri": "https://localhost:8080/"
        },
        "outputId": "56480896-d39e-402f-c28c-fa43c9c90b9e"
      },
      "source": [
        "# summery of descriptive statistics\n",
        "result = st.describe(x, ddof=1, bias=False)\n",
        "print(result)"
      ],
      "execution_count": null,
      "outputs": [
        {
          "output_type": "stream",
          "text": [
            "DescribeResult(nobs=5, minmax=(1.0, 28.0), mean=8.7, variance=123.19999999999999, skewness=1.9470432273905927, kurtosis=3.878019618875446)\n"
          ],
          "name": "stdout"
        }
      ]
    },
    {
      "cell_type": "markdown",
      "metadata": {
        "id": "ZdEKk2K-43wq"
      },
      "source": [
        "- Below functions numpy.cov, numpy.corrcoef, scipy.stats.pearsonr and scipy.stats.linregress require input as array so we will create 2 np array x_ and y_"
      ]
    },
    {
      "cell_type": "code",
      "metadata": {
        "id": "d--dGNV143wq"
      },
      "source": [
        "# Measures of Correlation Between Pairs of Data\n",
        "x = list(range(-10, 11))\n",
        "y = [0, 2, 2, 2, 2, 3, 3, 6, 7, 4, 7, 6, 6, 9, 4, 5, 5, 10, 11, 12, 14]\n",
        "x_, y_ = np.array(x), np.array(y)"
      ],
      "execution_count": null,
      "outputs": []
    },
    {
      "cell_type": "markdown",
      "metadata": {
        "id": "-mSgJ5nW43wr"
      },
      "source": [
        "# Covariance matrix\n",
        "- Covariance matrix is a square matrix giving the covariance between each pair of elements of a given random vector.\n",
        "- Covariance is a measure of the joint variability of two random variables. If the greater values of one variable mainly correspond with the greater values of the other variable, and the same holds for the lesser values, (i.e., the variables tend to show similar behavior), the covariance is positive. In the opposite case, when the greater values of one variable mainly correspond to the lesser values of the other, (i.e., the variables tend to show opposite behavior), the covariance is negative."
      ]
    },
    {
      "cell_type": "code",
      "metadata": {
        "id": "RRV8yX_X43wr",
        "colab": {
          "base_uri": "https://localhost:8080/"
        },
        "outputId": "c566280c-502f-4f5c-c5a1-e74fd6a0a426"
      },
      "source": [
        "# NumPy has the function cov() that returns the covariance matrix\n",
        "cov_matrix = np.cov(x_, y_)\n",
        "print(cov_matrix)"
      ],
      "execution_count": null,
      "outputs": [
        {
          "output_type": "stream",
          "text": [
            "[[38.5        19.95      ]\n",
            " [19.95       13.91428571]]\n"
          ],
          "name": "stdout"
        }
      ]
    },
    {
      "cell_type": "markdown",
      "metadata": {
        "id": "bjHsbnmB43wr"
      },
      "source": [
        "The correlation coefficient, or Pearson product-moment correlation coefficient, is denoted by the symbol 𝑟. The coefficient is another measure of the correlation between data. You can think of it as a standardized covariance. Here are some important facts about it:\n",
        "\n",
        "    The value 𝑟 > 0 indicates positive correlation.\n",
        "    The value 𝑟 < 0 indicates negative correlation.\n",
        "    The value r = 1 is the maximum possible value of 𝑟. It corresponds to a perfect positive linear relationship between variables.\n",
        "    The value r = −1 is the minimum possible value of 𝑟. It corresponds to a perfect negative linear relationship between variables.\n",
        "    The value r ≈ 0, or when 𝑟 is around zero, means that the correlation between variables is weak.\n"
      ]
    },
    {
      "cell_type": "markdown",
      "metadata": {
        "id": "5g3Knu2643ws"
      },
      "source": [
        "# Correlation Coefficient\n",
        "A correlation coefficient is a numerical measure of some type of correlation, meaning a statistical relationship between two variables.[a] The variables may be two columns of a given data set of observations, often called a sample, or two components of a multivariate random variable with a known distribution.[citation needed]\n",
        "\n",
        "Several types of correlation coefficient exist, each with their own definition and own range of usability and characteristics. They all assume values in the range from −1 to +1, where ±1 indicates the strongest possible agreement and 0 the strongest possible disagreement.[2] As tools of analysis, correlation coefficients present certain problems, including the propensity of some types to be distorted by outliers and the possibility of incorrectly being used to infer a causal relationship between the variables\n"
      ]
    },
    {
      "cell_type": "code",
      "metadata": {
        "id": "3iHug-Oo43ws",
        "colab": {
          "base_uri": "https://localhost:8080/"
        },
        "outputId": "bf14e6eb-6995-4943-b010-e65502aecaca"
      },
      "source": [
        "corr_matrix = np.corrcoef(x_, y_)\n",
        "corr_matrix"
      ],
      "execution_count": null,
      "outputs": [
        {
          "output_type": "execute_result",
          "data": {
            "text/plain": [
              "array([[1.        , 0.86195001],\n",
              "       [0.86195001, 1.        ]])"
            ]
          },
          "metadata": {
            "tags": []
          },
          "execution_count": 21
        }
      ]
    },
    {
      "cell_type": "markdown",
      "metadata": {
        "id": "UM6Oair843ws"
      },
      "source": [
        "## Pearson correlation coefficient\n",
        "\n",
        "The Pearson correlation coefficient measures the linear relationship between two datasets. The calculation of the p-value relies on the assumption that each dataset is normally distributed."
      ]
    },
    {
      "cell_type": "code",
      "metadata": {
        "id": "Gp_Kc4ZK43wt",
        "colab": {
          "base_uri": "https://localhost:8080/"
        },
        "outputId": "61c8ed05-a717-4499-b1a9-6c189549e7a6"
      },
      "source": [
        "# Correlation Coefficient\n",
        "r, p = st.pearsonr(x_, y_)\n",
        "r"
      ],
      "execution_count": null,
      "outputs": [
        {
          "output_type": "execute_result",
          "data": {
            "text/plain": [
              "0.861950005631606"
            ]
          },
          "metadata": {
            "tags": []
          },
          "execution_count": 22
        }
      ]
    },
    {
      "cell_type": "markdown",
      "metadata": {
        "id": "arC2VwBV43wt"
      },
      "source": [
        "# Linear Regression\n",
        "- Linear regression is a linear approach to modeling the relationship between a scalar response and one or more explanatory variables. The case of one explanatory variable is called simple linear regression.\n",
        "\n",
        "Linregress - Calculate a linear least-squares regression for two sets of measurements. Desciption of return value of linregress is described bellow\n",
        "\n",
        "- slopefloat - Slope of the regression line.\n",
        "- interceptfloat - Intercept of the regression line.\n",
        "- rvaluefloat - Correlation coefficient.\n",
        "- pvaluefloat - Two-sided p-value for a hypothesis test whose null hypothesis is that the slope is zero, using Wald Test with t-distribution of the test statistic.\n",
        "- stderrfloat - Standard error of the estimated gradient."
      ]
    },
    {
      "cell_type": "code",
      "metadata": {
        "id": "YdITJAfP43wt",
        "colab": {
          "base_uri": "https://localhost:8080/"
        },
        "outputId": "3fbbc223-bb0d-4ea1-905f-4608be44ebd6"
      },
      "source": [
        "st.linregress(x_, y_)\n"
      ],
      "execution_count": null,
      "outputs": [
        {
          "output_type": "execute_result",
          "data": {
            "text/plain": [
              "LinregressResult(slope=0.5181818181818181, intercept=5.714285714285714, rvalue=0.861950005631606, pvalue=5.122760847201164e-07, stderr=0.06992387660074979)"
            ]
          },
          "metadata": {
            "tags": []
          },
          "execution_count": 23
        }
      ]
    },
    {
      "cell_type": "code",
      "metadata": {
        "id": "2t48qllk43wt"
      },
      "source": [
        ""
      ],
      "execution_count": null,
      "outputs": []
    }
  ]
}